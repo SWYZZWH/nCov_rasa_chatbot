{
 "cells": [
  {
   "cell_type": "code",
   "execution_count": null,
   "metadata": {},
   "outputs": [],
   "source": [
    "from telegram.ext import Updater, CommandHandler\n",
    "\n",
    "\n",
    "def hello(update, context):\n",
    "    update.message.reply_text(\n",
    "        'Hello {}'.format(update.message.from_user.first_name))\n",
    "\n",
    "\n",
    "updater = Updater('985539800:AAFL4B77rzV9jGrI3yaRcXINJkBDSokxVGU')\n",
    "\n",
    "updater.dispatcher.add_handler(CommandHandler('hello', hello))\n",
    "\n",
    "updater.start_polling()\n",
    "updater.idle()"
   ]
  }
 ],
 "metadata": {
  "kernelspec": {
   "display_name": "Python 3",
   "language": "python",
   "name": "python3"
  },
  "language_info": {
   "codemirror_mode": {
    "name": "ipython",
    "version": 3
   },
   "file_extension": ".py",
   "mimetype": "text/x-python",
   "name": "python",
   "nbconvert_exporter": "python",
   "pygments_lexer": "ipython3",
   "version": "3.6.10"
  }
 },
 "nbformat": 4,
 "nbformat_minor": 4
}
